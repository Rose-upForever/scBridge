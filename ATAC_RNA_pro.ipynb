{
 "cells": [
  {
   "cell_type": "code",
   "execution_count": 1,
   "metadata": {
    "pycharm": {
     "name": "#%%\n"
    }
   },
   "outputs": [
    {
     "name": "stderr",
     "output_type": "stream",
     "text": [
      "D:\\developer\\env\\anaconda\\envs\\scBridge\\lib\\site-packages\\tqdm\\auto.py:21: TqdmWarning: IProgress not found. Please update jupyter and ipywidgets. See https://ipywidgets.readthedocs.io/en/stable/user_install.html\n",
      "  from .autonotebook import tqdm as notebook_tqdm\n"
     ]
    }
   ],
   "source": [
    "import scanpy as sc\n",
    "import pandas as pd\n",
    "import numpy as np\n",
    "import anndata\n",
    "from scipy.sparse import csr_matrix,csc_matrix"
   ]
  },
  {
   "cell_type": "code",
   "execution_count": 11,
   "metadata": {
    "pycharm": {
     "name": "#%%\n"
    }
   },
   "outputs": [],
   "source": [
    "H = sc.read_h5ad('pbmc.h5ad')"
   ]
  },
  {
   "cell_type": "code",
   "execution_count": 3,
   "metadata": {
    "pycharm": {
     "name": "#%%\n"
    }
   },
   "outputs": [],
   "source": [
    "sc.pp.filter_cells(H,min_genes = 200)\n",
    "sc.pp.filter_genes(H,min_cells=644)"
   ]
  },
  {
   "cell_type": "code",
   "execution_count": 4,
   "metadata": {
    "pycharm": {
     "name": "#%%\n"
    }
   },
   "outputs": [],
   "source": [
    "sc.pp.filter_cells(R,min_genes = 200)\n",
    "sc.pp.filter_genes(R,min_cells=644)"
   ]
  },
  {
   "cell_type": "code",
   "execution_count": 9,
   "metadata": {
    "pycharm": {
     "name": "#%%\n"
    }
   },
   "outputs": [
    {
     "data": {
      "text/plain": "<78708x173026 sparse matrix of type '<class 'numpy.float32'>'\n\twith 54808255 stored elements in Compressed Sparse Row format>"
     },
     "execution_count": 9,
     "metadata": {},
     "output_type": "execute_result"
    }
   ],
   "source": [
    "H.X"
   ]
  },
  {
   "cell_type": "code",
   "execution_count": 12,
   "metadata": {
    "pycharm": {
     "name": "#%%\n"
    }
   },
   "outputs": [],
   "source": [
    "# 读取RNA的基因表达矩阵\n",
    "R = sc.read_10x_h5('GSM6284350_BMMC.RNA.hg19.gene.bc.matrices.h5')"
   ]
  },
  {
   "cell_type": "code",
   "execution_count": 14,
   "outputs": [
    {
     "data": {
      "text/plain": "AnnData object with n_obs × n_vars = 110678 × 51862\n    var: 'gene_ids'"
     },
     "execution_count": 14,
     "metadata": {},
     "output_type": "execute_result"
    }
   ],
   "source": [
    "R"
   ],
   "metadata": {
    "collapsed": false,
    "pycharm": {
     "name": "#%%\n"
    }
   }
  },
  {
   "cell_type": "code",
   "execution_count": 6,
   "metadata": {
    "pycharm": {
     "name": "#%%\n"
    }
   },
   "outputs": [],
   "source": [
    "# 在R的obs中新增加一列\n",
    "#R.obs.insert(R.obs.shape[1],'celltype','0')"
   ]
  },
  {
   "cell_type": "code",
   "execution_count": 57,
   "metadata": {
    "pycharm": {
     "name": "#%%\n"
    }
   },
   "outputs": [],
   "source": [
    "meta_data = pd.read_excel('GSM6284346_BMMC.metadata.xlsx')"
   ]
  },
  {
   "cell_type": "code",
   "execution_count": 58,
   "outputs": [],
   "source": [
    "meta_data = pd.DataFrame(meta_data)\n",
    "keep = ['atac.bc',' rna.bc',' celltype']\n",
    "meta_data = meta_data.filter(keep,axis = 1)"
   ],
   "metadata": {
    "collapsed": false,
    "pycharm": {
     "name": "#%%\n"
    }
   }
  },
  {
   "cell_type": "code",
   "execution_count": 59,
   "outputs": [
    {
     "data": {
      "text/plain": "                          atac.bc                      rna.bc   celltype\n0      R1.001,R2.001,R3.112,P1.04  R1.001,R2.001,R3.112,P1.12  pro/pre-B\n1      R1.001,R2.002,R3.038,P1.04  R1.001,R2.002,R3.038,P1.12       Mono\n2      R1.001,R2.002,R3.157,P1.04  R1.001,R2.002,R3.157,P1.12        CD4\n3      R1.001,R2.003,R3.060,P1.04  R1.001,R2.003,R3.060,P1.12  pro/pre-B\n4      R1.001,R2.003,R3.061,P1.04  R1.001,R2.003,R3.061,P1.12         NK\n...                           ...                         ...        ...\n78703  R1.192,R2.191,R3.121,P1.04  R1.192,R2.191,R3.121,P1.12        CD4\n78704  R1.192,R2.191,R3.135,P1.04  R1.192,R2.191,R3.135,P1.12         NK\n78705  R1.192,R2.192,R3.001,P1.04  R1.192,R2.192,R3.001,P1.12        CD4\n78706  R1.192,R2.192,R3.033,P1.04  R1.192,R2.192,R3.033,P1.12        CD8\n78707  R1.192,R2.192,R3.123,P1.04  R1.192,R2.192,R3.123,P1.12  pro/pre-B\n\n[78708 rows x 3 columns]",
      "text/html": "<div>\n<style scoped>\n    .dataframe tbody tr th:only-of-type {\n        vertical-align: middle;\n    }\n\n    .dataframe tbody tr th {\n        vertical-align: top;\n    }\n\n    .dataframe thead th {\n        text-align: right;\n    }\n</style>\n<table border=\"1\" class=\"dataframe\">\n  <thead>\n    <tr style=\"text-align: right;\">\n      <th></th>\n      <th>atac.bc</th>\n      <th>rna.bc</th>\n      <th>celltype</th>\n    </tr>\n  </thead>\n  <tbody>\n    <tr>\n      <th>0</th>\n      <td>R1.001,R2.001,R3.112,P1.04</td>\n      <td>R1.001,R2.001,R3.112,P1.12</td>\n      <td>pro/pre-B</td>\n    </tr>\n    <tr>\n      <th>1</th>\n      <td>R1.001,R2.002,R3.038,P1.04</td>\n      <td>R1.001,R2.002,R3.038,P1.12</td>\n      <td>Mono</td>\n    </tr>\n    <tr>\n      <th>2</th>\n      <td>R1.001,R2.002,R3.157,P1.04</td>\n      <td>R1.001,R2.002,R3.157,P1.12</td>\n      <td>CD4</td>\n    </tr>\n    <tr>\n      <th>3</th>\n      <td>R1.001,R2.003,R3.060,P1.04</td>\n      <td>R1.001,R2.003,R3.060,P1.12</td>\n      <td>pro/pre-B</td>\n    </tr>\n    <tr>\n      <th>4</th>\n      <td>R1.001,R2.003,R3.061,P1.04</td>\n      <td>R1.001,R2.003,R3.061,P1.12</td>\n      <td>NK</td>\n    </tr>\n    <tr>\n      <th>...</th>\n      <td>...</td>\n      <td>...</td>\n      <td>...</td>\n    </tr>\n    <tr>\n      <th>78703</th>\n      <td>R1.192,R2.191,R3.121,P1.04</td>\n      <td>R1.192,R2.191,R3.121,P1.12</td>\n      <td>CD4</td>\n    </tr>\n    <tr>\n      <th>78704</th>\n      <td>R1.192,R2.191,R3.135,P1.04</td>\n      <td>R1.192,R2.191,R3.135,P1.12</td>\n      <td>NK</td>\n    </tr>\n    <tr>\n      <th>78705</th>\n      <td>R1.192,R2.192,R3.001,P1.04</td>\n      <td>R1.192,R2.192,R3.001,P1.12</td>\n      <td>CD4</td>\n    </tr>\n    <tr>\n      <th>78706</th>\n      <td>R1.192,R2.192,R3.033,P1.04</td>\n      <td>R1.192,R2.192,R3.033,P1.12</td>\n      <td>CD8</td>\n    </tr>\n    <tr>\n      <th>78707</th>\n      <td>R1.192,R2.192,R3.123,P1.04</td>\n      <td>R1.192,R2.192,R3.123,P1.12</td>\n      <td>pro/pre-B</td>\n    </tr>\n  </tbody>\n</table>\n<p>78708 rows × 3 columns</p>\n</div>"
     },
     "execution_count": 59,
     "metadata": {},
     "output_type": "execute_result"
    }
   ],
   "source": [
    "meta_data"
   ],
   "metadata": {
    "collapsed": false,
    "pycharm": {
     "name": "#%%\n"
    }
   }
  },
  {
   "cell_type": "code",
   "execution_count": 60,
   "metadata": {
    "pycharm": {
     "name": "#%%\n"
    }
   },
   "outputs": [],
   "source": [
    "# 筛选没有标签的的RNA细胞,通过这一步骤的筛选之后RNA细胞barcode的数量变为78520,然后通过保留的barcode在后面的delet_rows_csr函数删除掉没有标签的细胞\n",
    "RNA_raw_list = pd.DataFrame(R.obs.index.tolist(),columns=['Barcode'])\n",
    "RNA_Barcode = []\n",
    "bool = RNA_raw_list['Barcode'].isin(meta_data[' rna.bc'])\n",
    "for i in range(0,len(R.obs.index.tolist())):\n",
    "    if ~bool[i]:\n",
    "        RNA_Barcode.append(i)\n",
    "len(RNA_Barcode)\n",
    "RNA_raw_list = RNA_raw_list.drop(RNA_Barcode,axis = 0)"
   ]
  },
  {
   "cell_type": "code",
   "execution_count": 62,
   "metadata": {
    "pycharm": {
     "name": "#%%\n"
    }
   },
   "outputs": [],
   "source": [
    "# 删除metadata数据中没有标签的细胞\n",
    "rename = {'atac.bc':'ATAC_Barcode',' rna.bc':'RNA_Barcode',' celltype':'Celltype'}\n",
    "meta_data.rename(columns=rename,inplace=True)\n",
    "bool_meta = meta_data['RNA_Barcode'].isin(RNA_raw_list['Barcode'])\n",
    "bool_meta_index=[]\n",
    "for i in range(0,len(bool_meta)):\n",
    "    if ~bool_meta[i]:\n",
    "        bool_meta_index.append(i)\n",
    "meta_data = meta_data.drop(bool_meta_index,axis = 0)"
   ]
  },
  {
   "cell_type": "code",
   "execution_count": 63,
   "outputs": [
    {
     "data": {
      "text/plain": "                     ATAC_Barcode                 RNA_Barcode   Celltype\n0      R1.001,R2.001,R3.112,P1.04  R1.001,R2.001,R3.112,P1.12  pro/pre-B\n1      R1.001,R2.002,R3.038,P1.04  R1.001,R2.002,R3.038,P1.12       Mono\n2      R1.001,R2.002,R3.157,P1.04  R1.001,R2.002,R3.157,P1.12        CD4\n3      R1.001,R2.003,R3.060,P1.04  R1.001,R2.003,R3.060,P1.12  pro/pre-B\n4      R1.001,R2.003,R3.061,P1.04  R1.001,R2.003,R3.061,P1.12         NK\n...                           ...                         ...        ...\n78703  R1.192,R2.191,R3.121,P1.04  R1.192,R2.191,R3.121,P1.12        CD4\n78704  R1.192,R2.191,R3.135,P1.04  R1.192,R2.191,R3.135,P1.12         NK\n78705  R1.192,R2.192,R3.001,P1.04  R1.192,R2.192,R3.001,P1.12        CD4\n78706  R1.192,R2.192,R3.033,P1.04  R1.192,R2.192,R3.033,P1.12        CD8\n78707  R1.192,R2.192,R3.123,P1.04  R1.192,R2.192,R3.123,P1.12  pro/pre-B\n\n[78520 rows x 3 columns]",
      "text/html": "<div>\n<style scoped>\n    .dataframe tbody tr th:only-of-type {\n        vertical-align: middle;\n    }\n\n    .dataframe tbody tr th {\n        vertical-align: top;\n    }\n\n    .dataframe thead th {\n        text-align: right;\n    }\n</style>\n<table border=\"1\" class=\"dataframe\">\n  <thead>\n    <tr style=\"text-align: right;\">\n      <th></th>\n      <th>ATAC_Barcode</th>\n      <th>RNA_Barcode</th>\n      <th>Celltype</th>\n    </tr>\n  </thead>\n  <tbody>\n    <tr>\n      <th>0</th>\n      <td>R1.001,R2.001,R3.112,P1.04</td>\n      <td>R1.001,R2.001,R3.112,P1.12</td>\n      <td>pro/pre-B</td>\n    </tr>\n    <tr>\n      <th>1</th>\n      <td>R1.001,R2.002,R3.038,P1.04</td>\n      <td>R1.001,R2.002,R3.038,P1.12</td>\n      <td>Mono</td>\n    </tr>\n    <tr>\n      <th>2</th>\n      <td>R1.001,R2.002,R3.157,P1.04</td>\n      <td>R1.001,R2.002,R3.157,P1.12</td>\n      <td>CD4</td>\n    </tr>\n    <tr>\n      <th>3</th>\n      <td>R1.001,R2.003,R3.060,P1.04</td>\n      <td>R1.001,R2.003,R3.060,P1.12</td>\n      <td>pro/pre-B</td>\n    </tr>\n    <tr>\n      <th>4</th>\n      <td>R1.001,R2.003,R3.061,P1.04</td>\n      <td>R1.001,R2.003,R3.061,P1.12</td>\n      <td>NK</td>\n    </tr>\n    <tr>\n      <th>...</th>\n      <td>...</td>\n      <td>...</td>\n      <td>...</td>\n    </tr>\n    <tr>\n      <th>78703</th>\n      <td>R1.192,R2.191,R3.121,P1.04</td>\n      <td>R1.192,R2.191,R3.121,P1.12</td>\n      <td>CD4</td>\n    </tr>\n    <tr>\n      <th>78704</th>\n      <td>R1.192,R2.191,R3.135,P1.04</td>\n      <td>R1.192,R2.191,R3.135,P1.12</td>\n      <td>NK</td>\n    </tr>\n    <tr>\n      <th>78705</th>\n      <td>R1.192,R2.192,R3.001,P1.04</td>\n      <td>R1.192,R2.192,R3.001,P1.12</td>\n      <td>CD4</td>\n    </tr>\n    <tr>\n      <th>78706</th>\n      <td>R1.192,R2.192,R3.033,P1.04</td>\n      <td>R1.192,R2.192,R3.033,P1.12</td>\n      <td>CD8</td>\n    </tr>\n    <tr>\n      <th>78707</th>\n      <td>R1.192,R2.192,R3.123,P1.04</td>\n      <td>R1.192,R2.192,R3.123,P1.12</td>\n      <td>pro/pre-B</td>\n    </tr>\n  </tbody>\n</table>\n<p>78520 rows × 3 columns</p>\n</div>"
     },
     "execution_count": 63,
     "metadata": {},
     "output_type": "execute_result"
    }
   ],
   "source": [
    "meta_data"
   ],
   "metadata": {
    "collapsed": false,
    "pycharm": {
     "name": "#%%\n"
    }
   }
  },
  {
   "cell_type": "code",
   "execution_count": 65,
   "outputs": [],
   "source": [
    "# 根据metadata中的barcode筛选ATAC数据于RNA共有的细胞\n",
    "H_barcode = pd.DataFrame(H.obs.index.tolist(),columns=['Barcode'])\n",
    "ATAC_Barcode = []\n",
    "bool = H_barcode['Barcode'].isin(meta_data['ATAC_Barcode'])\n",
    "for i in range(0,len(H.obs.index.tolist())):\n",
    "    if ~bool[i]:\n",
    "        ATAC_Barcode.append(i)\n",
    "len(ATAC_Barcode)\n",
    "new_ATAC_meta = H_barcode.drop(ATAC_Barcode,axis = 0)"
   ],
   "metadata": {
    "collapsed": false,
    "pycharm": {
     "name": "#%%\n"
    }
   }
  },
  {
   "cell_type": "code",
   "execution_count": 72,
   "outputs": [
    {
     "data": {
      "text/plain": "                          Barcode\n0      R1.001,R2.001,R3.112,P1.04\n1      R1.001,R2.002,R3.038,P1.04\n2      R1.001,R2.002,R3.157,P1.04\n3      R1.001,R2.003,R3.060,P1.04\n4      R1.001,R2.003,R3.061,P1.04\n...                           ...\n78703  R1.192,R2.191,R3.121,P1.04\n78704  R1.192,R2.191,R3.135,P1.04\n78705  R1.192,R2.192,R3.001,P1.04\n78706  R1.192,R2.192,R3.033,P1.04\n78707  R1.192,R2.192,R3.123,P1.04\n\n[78520 rows x 1 columns]",
      "text/html": "<div>\n<style scoped>\n    .dataframe tbody tr th:only-of-type {\n        vertical-align: middle;\n    }\n\n    .dataframe tbody tr th {\n        vertical-align: top;\n    }\n\n    .dataframe thead th {\n        text-align: right;\n    }\n</style>\n<table border=\"1\" class=\"dataframe\">\n  <thead>\n    <tr style=\"text-align: right;\">\n      <th></th>\n      <th>Barcode</th>\n    </tr>\n  </thead>\n  <tbody>\n    <tr>\n      <th>0</th>\n      <td>R1.001,R2.001,R3.112,P1.04</td>\n    </tr>\n    <tr>\n      <th>1</th>\n      <td>R1.001,R2.002,R3.038,P1.04</td>\n    </tr>\n    <tr>\n      <th>2</th>\n      <td>R1.001,R2.002,R3.157,P1.04</td>\n    </tr>\n    <tr>\n      <th>3</th>\n      <td>R1.001,R2.003,R3.060,P1.04</td>\n    </tr>\n    <tr>\n      <th>4</th>\n      <td>R1.001,R2.003,R3.061,P1.04</td>\n    </tr>\n    <tr>\n      <th>...</th>\n      <td>...</td>\n    </tr>\n    <tr>\n      <th>78703</th>\n      <td>R1.192,R2.191,R3.121,P1.04</td>\n    </tr>\n    <tr>\n      <th>78704</th>\n      <td>R1.192,R2.191,R3.135,P1.04</td>\n    </tr>\n    <tr>\n      <th>78705</th>\n      <td>R1.192,R2.192,R3.001,P1.04</td>\n    </tr>\n    <tr>\n      <th>78706</th>\n      <td>R1.192,R2.192,R3.033,P1.04</td>\n    </tr>\n    <tr>\n      <th>78707</th>\n      <td>R1.192,R2.192,R3.123,P1.04</td>\n    </tr>\n  </tbody>\n</table>\n<p>78520 rows × 1 columns</p>\n</div>"
     },
     "execution_count": 72,
     "metadata": {},
     "output_type": "execute_result"
    }
   ],
   "source": [],
   "metadata": {
    "collapsed": false,
    "pycharm": {
     "name": "#%%\n"
    }
   }
  },
  {
   "cell_type": "code",
   "execution_count": 73,
   "metadata": {
    "pycharm": {
     "name": "#%%\n"
    }
   },
   "outputs": [],
   "source": [
    "#为dataframe重新建立索引\n",
    "meta_data = meta_data.reset_index(drop=True)\n",
    "RNA_raw_list = RNA_raw_list.reset_index(drop=True)\n",
    "new_ATAC_meta = new_ATAC_meta.reset_index(drop=True)"
   ]
  },
  {
   "cell_type": "code",
   "execution_count": 160,
   "metadata": {
    "pycharm": {
     "name": "#%%\n"
    }
   },
   "outputs": [],
   "source": [
    "# for i in range(0,78520):\n",
    "#     for j in range(0,78520):\n",
    "#         if meta_data[' rna.bc'][i] == RNA_raw_list['Barcode'][j]:\n",
    "#             RNA_raw_list['celltype'][j] = meta_data[' celltype'][i]\n",
    "#             meta_data = meta_data.drop(i)\n",
    "#             break"
   ]
  },
  {
   "cell_type": "code",
   "execution_count": 81,
   "metadata": {
    "pycharm": {
     "name": "#%%\n"
    }
   },
   "outputs": [],
   "source": [
    "# 合并meta_data与obs生成新的obs,目的是让Barcode于celltype对应上\n",
    "new_RNA_obs = RNA_raw_list.merge(meta_data,left_on='Barcode', right_on='RNA_Barcode')\n",
    "new_ATAC_obs = new_ATAC_meta.merge(meta_data, left_on='Barcode',right_on='ATAC_Barcode')"
   ]
  },
  {
   "cell_type": "code",
   "execution_count": 83,
   "outputs": [],
   "source": [
    "# 将obs中只保留CellType列\n",
    "keep = ['Celltype']\n",
    "new_RNA_obs = new_RNA_obs.filter(keep,axis = 1)\n",
    "new_ATAC_obs = new_ATAC_obs.filter(keep,axis = 1)"
   ],
   "metadata": {
    "collapsed": false,
    "pycharm": {
     "name": "#%%\n"
    }
   }
  },
  {
   "cell_type": "code",
   "execution_count": 70,
   "metadata": {
    "pycharm": {
     "name": "#%%\n"
    }
   },
   "outputs": [],
   "source": [
    "# meta_data = meta_data.sort_values(by = ' rna.bc',ascending=True)\n",
    "# RNA_raw_list= RNA_raw_list.sort_values(by = 'Barcode',ascending=True)"
   ]
  },
  {
   "cell_type": "markdown",
   "metadata": {
    "pycharm": {
     "name": "#%% md\n"
    }
   },
   "source": [
    "# 在稀疏矩阵X中剔除掉没有标签的细胞，生成新的matrix"
   ]
  },
  {
   "cell_type": "code",
   "execution_count": 68,
   "metadata": {
    "pycharm": {
     "name": "#%%\n"
    }
   },
   "outputs": [],
   "source": [
    "def delete_rows_csr(mat, indices):\n",
    "    \"\"\"\n",
    "    Remove the rows denoted by ``indices`` form the CSR sparse matrix ``mat``.\n",
    "    \"\"\"\n",
    "    if not isinstance(mat, csr_matrix):\n",
    "        raise ValueError(\"works only for CSR format -- use .tocsr() first\")\n",
    "    mask = np.ones(mat.shape[0], dtype=bool)\n",
    "    mask[indices] = False\n",
    "    return mat[mask]\n",
    "# 删除RNA中的细胞\n",
    "mat_RNA = R.X\n",
    "new_RNA_matrix = delete_rows_csr(mat_RNA,RNA_Barcode)\n",
    "# 删除ATAC中的细胞\n",
    "mat_ATAC = H.X\n",
    "new_ATAC_matrix = delete_rows_csr(mat_ATAC,ATAC_Barcode)"
   ]
  },
  {
   "cell_type": "markdown",
   "metadata": {
    "pycharm": {
     "name": "#%% md\n"
    }
   },
   "source": [
    "# 通过新的obs和新的matrix生成新的matrix矩阵"
   ]
  },
  {
   "cell_type": "markdown",
   "metadata": {
    "pycharm": {
     "name": "#%% md\n"
    }
   },
   "source": [
    "# 生成最终的细胞数据"
   ]
  },
  {
   "cell_type": "code",
   "execution_count": 85,
   "metadata": {
    "pycharm": {
     "name": "#%%\n"
    }
   },
   "outputs": [
    {
     "name": "stderr",
     "output_type": "stream",
     "text": [
      "D:\\developer\\env\\anaconda\\envs\\scBridge\\lib\\site-packages\\anndata\\_core\\anndata.py:183: ImplicitModificationWarning: Transforming to str index.\n",
      "  warnings.warn(\"Transforming to str index.\", ImplicitModificationWarning)\n",
      "D:\\developer\\env\\anaconda\\envs\\scBridge\\lib\\site-packages\\anndata\\_core\\anndata.py:183: ImplicitModificationWarning: Transforming to str index.\n",
      "  warnings.warn(\"Transforming to str index.\", ImplicitModificationWarning)\n"
     ]
    }
   ],
   "source": [
    "RNA_pro = anndata.AnnData(new_RNA_matrix,obs = new_RNA_obs)\n",
    "ATAC_pro = anndata.AnnData(new_ATAC_matrix,obs = new_ATAC_obs)"
   ]
  },
  {
   "cell_type": "code",
   "execution_count": 86,
   "metadata": {
    "pycharm": {
     "name": "#%%\n"
    }
   },
   "outputs": [],
   "source": [
    "RNA_pro.write('RNA_pro.h5ad')\n",
    "ATAC_pro.write('ATAC_pro.h5ad')"
   ]
  },
  {
   "cell_type": "markdown",
   "source": [
    "# 以上步骤完成了细胞数量的筛选。下面的步骤是对基因进行筛选"
   ],
   "metadata": {
    "collapsed": false,
    "pycharm": {
     "name": "#%% md\n"
    }
   }
  },
  {
   "cell_type": "code",
   "execution_count": 87,
   "outputs": [],
   "source": [
    "data1 = sc.read_h5ad('RNA_pro.h5ad')\n",
    "data2 = sc.read_h5ad('ATAC_pro.h5ad')"
   ],
   "metadata": {
    "collapsed": false,
    "pycharm": {
     "name": "#%%\n"
    }
   }
  },
  {
   "cell_type": "code",
   "execution_count": null,
   "outputs": [],
   "source": [],
   "metadata": {
    "collapsed": false,
    "pycharm": {
     "name": "#%%\n"
    }
   }
  },
  {
   "cell_type": "code",
   "execution_count": 90,
   "outputs": [
    {
     "data": {
      "text/plain": "        Celltype\n0      pro/pre-B\n1           Mono\n2            CD4\n3      pro/pre-B\n4             NK\n...          ...\n78515        CD4\n78516         NK\n78517        CD4\n78518        CD8\n78519  pro/pre-B\n\n[78520 rows x 1 columns]",
      "text/html": "<div>\n<style scoped>\n    .dataframe tbody tr th:only-of-type {\n        vertical-align: middle;\n    }\n\n    .dataframe tbody tr th {\n        vertical-align: top;\n    }\n\n    .dataframe thead th {\n        text-align: right;\n    }\n</style>\n<table border=\"1\" class=\"dataframe\">\n  <thead>\n    <tr style=\"text-align: right;\">\n      <th></th>\n      <th>Celltype</th>\n    </tr>\n  </thead>\n  <tbody>\n    <tr>\n      <th>0</th>\n      <td>pro/pre-B</td>\n    </tr>\n    <tr>\n      <th>1</th>\n      <td>Mono</td>\n    </tr>\n    <tr>\n      <th>2</th>\n      <td>CD4</td>\n    </tr>\n    <tr>\n      <th>3</th>\n      <td>pro/pre-B</td>\n    </tr>\n    <tr>\n      <th>4</th>\n      <td>NK</td>\n    </tr>\n    <tr>\n      <th>...</th>\n      <td>...</td>\n    </tr>\n    <tr>\n      <th>78515</th>\n      <td>CD4</td>\n    </tr>\n    <tr>\n      <th>78516</th>\n      <td>NK</td>\n    </tr>\n    <tr>\n      <th>78517</th>\n      <td>CD4</td>\n    </tr>\n    <tr>\n      <th>78518</th>\n      <td>CD8</td>\n    </tr>\n    <tr>\n      <th>78519</th>\n      <td>pro/pre-B</td>\n    </tr>\n  </tbody>\n</table>\n<p>78520 rows × 1 columns</p>\n</div>"
     },
     "execution_count": 90,
     "metadata": {},
     "output_type": "execute_result"
    }
   ],
   "source": [],
   "metadata": {
    "collapsed": false,
    "pycharm": {
     "name": "#%%\n"
    }
   }
  }
 ],
 "metadata": {
  "kernelspec": {
   "display_name": "scBridge",
   "language": "python",
   "name": "scbridge"
  },
  "language_info": {
   "codemirror_mode": {
    "name": "ipython",
    "version": 3
   },
   "file_extension": ".py",
   "mimetype": "text/x-python",
   "name": "python",
   "nbconvert_exporter": "python",
   "pygments_lexer": "ipython3",
   "version": "3.10.6"
  }
 },
 "nbformat": 4,
 "nbformat_minor": 5
}